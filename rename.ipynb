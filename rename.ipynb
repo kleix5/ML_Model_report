{
 "cells": [
  {
   "cell_type": "code",
   "execution_count": 2,
   "id": "3c267aaa",
   "metadata": {},
   "outputs": [],
   "source": [
    "import os\n",
    "from pathlib import Path "
   ]
  },
  {
   "cell_type": "code",
   "execution_count": 3,
   "id": "06441ec3",
   "metadata": {},
   "outputs": [],
   "source": [
    "path = os.path.abspath('daset_test_labels')"
   ]
  },
  {
   "cell_type": "code",
   "execution_count": 4,
   "id": "53456b0c",
   "metadata": {},
   "outputs": [
    {
     "data": {
      "text/plain": [
       "'C:\\\\py_projects\\\\imgOVDoc\\\\archive\\\\daset_test_labels'"
      ]
     },
     "execution_count": 4,
     "metadata": {},
     "output_type": "execute_result"
    }
   ],
   "source": [
    "path"
   ]
  },
  {
   "cell_type": "code",
   "execution_count": 5,
   "id": "ef3aa744",
   "metadata": {},
   "outputs": [],
   "source": [
    "numb = 1.0\n",
    "for i in os.listdir(path):\n",
    "    p = Path(i)\n",
    "    my_file = i\n",
    "    new_ext = p.suffix\n",
    "    name_without_ext = os.path.splitext(my_file)[0]\n",
    "    if len(i) > 25:\n",
    "        os.rename(os.path.join(path, my_file), str(numb) + new_ext)\n",
    "        numb += 1\n",
    "    else:\n",
    "        continue"
   ]
  },
  {
   "cell_type": "code",
   "execution_count": null,
   "id": "fcd12daa",
   "metadata": {},
   "outputs": [],
   "source": []
  }
 ],
 "metadata": {
  "kernelspec": {
   "display_name": "Python (venv)",
   "language": "python",
   "name": "vnv"
  },
  "language_info": {
   "codemirror_mode": {
    "name": "ipython",
    "version": 3
   },
   "file_extension": ".py",
   "mimetype": "text/x-python",
   "name": "python",
   "nbconvert_exporter": "python",
   "pygments_lexer": "ipython3",
   "version": "3.11.5"
  }
 },
 "nbformat": 4,
 "nbformat_minor": 5
}
